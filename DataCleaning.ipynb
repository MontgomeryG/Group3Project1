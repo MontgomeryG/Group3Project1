{
 "cells": [
  {
   "cell_type": "code",
   "execution_count": 13,
   "metadata": {},
   "outputs": [],
   "source": [
    "import pandas as pd\n",
    "from pathlib import Path"
   ]
  },
  {
   "cell_type": "code",
   "execution_count": 14,
   "metadata": {},
   "outputs": [],
   "source": [
    "# Defining Paths\n",
    "population_path = Path(\"../Group3Project1/Resources/sub-est2022.csv\")\n",
    "snp500_path = Path(\"../Group3Project1/Resources/constituents.csv\")\n",
    "\n",
    "# Reading CSV\n",
    "population_data = pd.read_csv(population_path, header=0) \n",
    "snp500_data = pd.read_csv(snp500_path, index_col=\"Symbol\")"
   ]
  },
  {
   "cell_type": "code",
   "execution_count": 15,
   "metadata": {},
   "outputs": [],
   "source": [
    "# Preparing and Cleaning SUMLEV 162(Cities) Population Data\n",
    "cities_population_data = population_data[population_data[\"SUMLEV\"] == 162]\n",
    "cities_population_data = cities_population_data[['NAME', 'STNAME', 'POPESTIMATE2022']]\n",
    "cities_population_data.columns = ['city', 'state', 'population']\n",
    "cities_population_data['city'] = cities_population_data['city'].str.replace(\n",
    "  r' (City|city|town|village|borough)', '', regex=True)\n",
    "cities_population_data['city'] = cities_population_data['city'].str.replace(r'\\bSt\\. \\b', 'Saint ', regex=True)"
   ]
  },
  {
   "cell_type": "code",
   "execution_count": 16,
   "metadata": {},
   "outputs": [],
   "source": [
    "# Preparing and Cleaning SUMLEV 050(County) Population Data\n",
    "counties_population_data = population_data[population_data[\"SUMLEV\"] == 50]\n",
    "counties_population_data = counties_population_data[['NAME', 'STNAME', 'POPESTIMATE2022']]\n",
    "counties_population_data.columns = ['city', 'state', 'population']\n",
    "\n",
    "counties_population_data['city'] = counties_population_data['city'].str.replace(\n",
    "  r' (city|town|village|County|Parish|Planning Region|Census Area|City and Borough|Borough|Municipality)$',\n",
    "  '', regex=True)\n",
    "counties_population_data['city'] = counties_population_data['city'].str.replace(r'\\bSt\\. \\b', 'Saint ', regex=True)\n",
    "counties_population_data['city'] = counties_population_data['city'].str.strip()"
   ]
  },
  {
   "cell_type": "code",
   "execution_count": 17,
   "metadata": {},
   "outputs": [
    {
     "ename": "OSError",
     "evalue": "Cannot save file into a non-existent directory: 'C:/Users/Alex/Desktop'",
     "output_type": "error",
     "traceback": [
      "\u001b[0;31m---------------------------------------------------------------------------\u001b[0m",
      "\u001b[0;31mOSError\u001b[0m                                   Traceback (most recent call last)",
      "\u001b[1;32m/Users/montygash/Desktop/fintechProject1/Group3Project1/DataCleaning.ipynb Cell 5\u001b[0m line \u001b[0;36m1\n\u001b[1;32m      <a href='vscode-notebook-cell:/Users/montygash/Desktop/fintechProject1/Group3Project1/DataCleaning.ipynb#W4sZmlsZQ%3D%3D?line=6'>7</a>\u001b[0m towns_population_data[\u001b[39m'\u001b[39m\u001b[39mcity\u001b[39m\u001b[39m'\u001b[39m] \u001b[39m=\u001b[39m towns_population_data[\u001b[39m'\u001b[39m\u001b[39mcity\u001b[39m\u001b[39m'\u001b[39m]\u001b[39m.\u001b[39mstr\u001b[39m.\u001b[39mreplace(\u001b[39mr\u001b[39m\u001b[39m'\u001b[39m\u001b[39m\\\u001b[39m\u001b[39mbSt\u001b[39m\u001b[39m\\\u001b[39m\u001b[39m. \u001b[39m\u001b[39m\\\u001b[39m\u001b[39mb\u001b[39m\u001b[39m'\u001b[39m, \u001b[39m'\u001b[39m\u001b[39mSaint \u001b[39m\u001b[39m'\u001b[39m, regex\u001b[39m=\u001b[39m\u001b[39mTrue\u001b[39;00m)\n\u001b[1;32m      <a href='vscode-notebook-cell:/Users/montygash/Desktop/fintechProject1/Group3Project1/DataCleaning.ipynb#W4sZmlsZQ%3D%3D?line=8'>9</a>\u001b[0m sumlev_061_csv_path \u001b[39m=\u001b[39m \u001b[39m'\u001b[39m\u001b[39mC:/Users/Alex/Desktop/sumlev_061_population_data.csv\u001b[39m\u001b[39m'\u001b[39m\n\u001b[0;32m---> <a href='vscode-notebook-cell:/Users/montygash/Desktop/fintechProject1/Group3Project1/DataCleaning.ipynb#W4sZmlsZQ%3D%3D?line=9'>10</a>\u001b[0m towns_population_data\u001b[39m.\u001b[39mto_csv(sumlev_061_csv_path, index\u001b[39m=\u001b[39m\u001b[39mFalse\u001b[39;00m)\n",
      "File \u001b[0;32m~/anaconda3/lib/python3.11/site-packages/pandas/core/generic.py:3772\u001b[0m, in \u001b[0;36mNDFrame.to_csv\u001b[0;34m(self, path_or_buf, sep, na_rep, float_format, columns, header, index, index_label, mode, encoding, compression, quoting, quotechar, lineterminator, chunksize, date_format, doublequote, escapechar, decimal, errors, storage_options)\u001b[0m\n\u001b[1;32m   3761\u001b[0m df \u001b[39m=\u001b[39m \u001b[39mself\u001b[39m \u001b[39mif\u001b[39;00m \u001b[39misinstance\u001b[39m(\u001b[39mself\u001b[39m, ABCDataFrame) \u001b[39melse\u001b[39;00m \u001b[39mself\u001b[39m\u001b[39m.\u001b[39mto_frame()\n\u001b[1;32m   3763\u001b[0m formatter \u001b[39m=\u001b[39m DataFrameFormatter(\n\u001b[1;32m   3764\u001b[0m     frame\u001b[39m=\u001b[39mdf,\n\u001b[1;32m   3765\u001b[0m     header\u001b[39m=\u001b[39mheader,\n\u001b[0;32m   (...)\u001b[0m\n\u001b[1;32m   3769\u001b[0m     decimal\u001b[39m=\u001b[39mdecimal,\n\u001b[1;32m   3770\u001b[0m )\n\u001b[0;32m-> 3772\u001b[0m \u001b[39mreturn\u001b[39;00m DataFrameRenderer(formatter)\u001b[39m.\u001b[39mto_csv(\n\u001b[1;32m   3773\u001b[0m     path_or_buf,\n\u001b[1;32m   3774\u001b[0m     lineterminator\u001b[39m=\u001b[39mlineterminator,\n\u001b[1;32m   3775\u001b[0m     sep\u001b[39m=\u001b[39msep,\n\u001b[1;32m   3776\u001b[0m     encoding\u001b[39m=\u001b[39mencoding,\n\u001b[1;32m   3777\u001b[0m     errors\u001b[39m=\u001b[39merrors,\n\u001b[1;32m   3778\u001b[0m     compression\u001b[39m=\u001b[39mcompression,\n\u001b[1;32m   3779\u001b[0m     quoting\u001b[39m=\u001b[39mquoting,\n\u001b[1;32m   3780\u001b[0m     columns\u001b[39m=\u001b[39mcolumns,\n\u001b[1;32m   3781\u001b[0m     index_label\u001b[39m=\u001b[39mindex_label,\n\u001b[1;32m   3782\u001b[0m     mode\u001b[39m=\u001b[39mmode,\n\u001b[1;32m   3783\u001b[0m     chunksize\u001b[39m=\u001b[39mchunksize,\n\u001b[1;32m   3784\u001b[0m     quotechar\u001b[39m=\u001b[39mquotechar,\n\u001b[1;32m   3785\u001b[0m     date_format\u001b[39m=\u001b[39mdate_format,\n\u001b[1;32m   3786\u001b[0m     doublequote\u001b[39m=\u001b[39mdoublequote,\n\u001b[1;32m   3787\u001b[0m     escapechar\u001b[39m=\u001b[39mescapechar,\n\u001b[1;32m   3788\u001b[0m     storage_options\u001b[39m=\u001b[39mstorage_options,\n\u001b[1;32m   3789\u001b[0m )\n",
      "File \u001b[0;32m~/anaconda3/lib/python3.11/site-packages/pandas/io/formats/format.py:1186\u001b[0m, in \u001b[0;36mDataFrameRenderer.to_csv\u001b[0;34m(self, path_or_buf, encoding, sep, columns, index_label, mode, compression, quoting, quotechar, lineterminator, chunksize, date_format, doublequote, escapechar, errors, storage_options)\u001b[0m\n\u001b[1;32m   1165\u001b[0m     created_buffer \u001b[39m=\u001b[39m \u001b[39mFalse\u001b[39;00m\n\u001b[1;32m   1167\u001b[0m csv_formatter \u001b[39m=\u001b[39m CSVFormatter(\n\u001b[1;32m   1168\u001b[0m     path_or_buf\u001b[39m=\u001b[39mpath_or_buf,\n\u001b[1;32m   1169\u001b[0m     lineterminator\u001b[39m=\u001b[39mlineterminator,\n\u001b[0;32m   (...)\u001b[0m\n\u001b[1;32m   1184\u001b[0m     formatter\u001b[39m=\u001b[39m\u001b[39mself\u001b[39m\u001b[39m.\u001b[39mfmt,\n\u001b[1;32m   1185\u001b[0m )\n\u001b[0;32m-> 1186\u001b[0m csv_formatter\u001b[39m.\u001b[39msave()\n\u001b[1;32m   1188\u001b[0m \u001b[39mif\u001b[39;00m created_buffer:\n\u001b[1;32m   1189\u001b[0m     \u001b[39massert\u001b[39;00m \u001b[39misinstance\u001b[39m(path_or_buf, StringIO)\n",
      "File \u001b[0;32m~/anaconda3/lib/python3.11/site-packages/pandas/io/formats/csvs.py:240\u001b[0m, in \u001b[0;36mCSVFormatter.save\u001b[0;34m(self)\u001b[0m\n\u001b[1;32m    236\u001b[0m \u001b[39m\u001b[39m\u001b[39m\"\"\"\u001b[39;00m\n\u001b[1;32m    237\u001b[0m \u001b[39mCreate the writer & save.\u001b[39;00m\n\u001b[1;32m    238\u001b[0m \u001b[39m\"\"\"\u001b[39;00m\n\u001b[1;32m    239\u001b[0m \u001b[39m# apply compression and byte/text conversion\u001b[39;00m\n\u001b[0;32m--> 240\u001b[0m \u001b[39mwith\u001b[39;00m get_handle(\n\u001b[1;32m    241\u001b[0m     \u001b[39mself\u001b[39m\u001b[39m.\u001b[39mfilepath_or_buffer,\n\u001b[1;32m    242\u001b[0m     \u001b[39mself\u001b[39m\u001b[39m.\u001b[39mmode,\n\u001b[1;32m    243\u001b[0m     encoding\u001b[39m=\u001b[39m\u001b[39mself\u001b[39m\u001b[39m.\u001b[39mencoding,\n\u001b[1;32m    244\u001b[0m     errors\u001b[39m=\u001b[39m\u001b[39mself\u001b[39m\u001b[39m.\u001b[39merrors,\n\u001b[1;32m    245\u001b[0m     compression\u001b[39m=\u001b[39m\u001b[39mself\u001b[39m\u001b[39m.\u001b[39mcompression,\n\u001b[1;32m    246\u001b[0m     storage_options\u001b[39m=\u001b[39m\u001b[39mself\u001b[39m\u001b[39m.\u001b[39mstorage_options,\n\u001b[1;32m    247\u001b[0m ) \u001b[39mas\u001b[39;00m handles:\n\u001b[1;32m    248\u001b[0m     \u001b[39m# Note: self.encoding is irrelevant here\u001b[39;00m\n\u001b[1;32m    249\u001b[0m     \u001b[39mself\u001b[39m\u001b[39m.\u001b[39mwriter \u001b[39m=\u001b[39m csvlib\u001b[39m.\u001b[39mwriter(\n\u001b[1;32m    250\u001b[0m         handles\u001b[39m.\u001b[39mhandle,\n\u001b[1;32m    251\u001b[0m         lineterminator\u001b[39m=\u001b[39m\u001b[39mself\u001b[39m\u001b[39m.\u001b[39mlineterminator,\n\u001b[0;32m   (...)\u001b[0m\n\u001b[1;32m    256\u001b[0m         quotechar\u001b[39m=\u001b[39m\u001b[39mself\u001b[39m\u001b[39m.\u001b[39mquotechar,\n\u001b[1;32m    257\u001b[0m     )\n\u001b[1;32m    259\u001b[0m     \u001b[39mself\u001b[39m\u001b[39m.\u001b[39m_save()\n",
      "File \u001b[0;32m~/anaconda3/lib/python3.11/site-packages/pandas/io/common.py:737\u001b[0m, in \u001b[0;36mget_handle\u001b[0;34m(path_or_buf, mode, encoding, compression, memory_map, is_text, errors, storage_options)\u001b[0m\n\u001b[1;32m    735\u001b[0m \u001b[39m# Only for write methods\u001b[39;00m\n\u001b[1;32m    736\u001b[0m \u001b[39mif\u001b[39;00m \u001b[39m\"\u001b[39m\u001b[39mr\u001b[39m\u001b[39m\"\u001b[39m \u001b[39mnot\u001b[39;00m \u001b[39min\u001b[39;00m mode \u001b[39mand\u001b[39;00m is_path:\n\u001b[0;32m--> 737\u001b[0m     check_parent_directory(\u001b[39mstr\u001b[39m(handle))\n\u001b[1;32m    739\u001b[0m \u001b[39mif\u001b[39;00m compression:\n\u001b[1;32m    740\u001b[0m     \u001b[39mif\u001b[39;00m compression \u001b[39m!=\u001b[39m \u001b[39m\"\u001b[39m\u001b[39mzstd\u001b[39m\u001b[39m\"\u001b[39m:\n\u001b[1;32m    741\u001b[0m         \u001b[39m# compression libraries do not like an explicit text-mode\u001b[39;00m\n",
      "File \u001b[0;32m~/anaconda3/lib/python3.11/site-packages/pandas/io/common.py:600\u001b[0m, in \u001b[0;36mcheck_parent_directory\u001b[0;34m(path)\u001b[0m\n\u001b[1;32m    598\u001b[0m parent \u001b[39m=\u001b[39m Path(path)\u001b[39m.\u001b[39mparent\n\u001b[1;32m    599\u001b[0m \u001b[39mif\u001b[39;00m \u001b[39mnot\u001b[39;00m parent\u001b[39m.\u001b[39mis_dir():\n\u001b[0;32m--> 600\u001b[0m     \u001b[39mraise\u001b[39;00m \u001b[39mOSError\u001b[39;00m(\u001b[39mrf\u001b[39m\u001b[39m\"\u001b[39m\u001b[39mCannot save file into a non-existent directory: \u001b[39m\u001b[39m'\u001b[39m\u001b[39m{\u001b[39;00mparent\u001b[39m}\u001b[39;00m\u001b[39m'\u001b[39m\u001b[39m\"\u001b[39m)\n",
      "\u001b[0;31mOSError\u001b[0m: Cannot save file into a non-existent directory: 'C:/Users/Alex/Desktop'"
     ]
    }
   ],
   "source": [
    "# Preparing and Cleaning SUMLEV 061(Towns) Population Data\n",
    "towns_population_data = population_data[population_data[\"SUMLEV\"] == 61]\n",
    "towns_population_data = towns_population_data[['NAME', 'STNAME', 'POPESTIMATE2022']]\n",
    "towns_population_data.columns = ['city', 'state', 'population']\n",
    "towns_population_data['city'] = towns_population_data['city'].str.replace(\n",
    "  r' (City|city|township|town|village|-Troy Hills)', '', regex=True)\n",
    "towns_population_data['city'] = towns_population_data['city'].str.replace(r'\\bSt\\. \\b', 'Saint ', regex=True)"
   ]
  },
  {
   "cell_type": "code",
   "execution_count": 18,
   "metadata": {},
   "outputs": [],
   "source": [
    "# Cleaning and preparing Louisville(SUMLEV 157) and Nashville(SUMLEV 172) data\n",
    "targeted_population_data = population_data[population_data[\"SUMLEV\"].isin([157, 172])]\n",
    "targeted_population_data = targeted_population_data[['NAME', 'STNAME', 'POPESTIMATE2022']]\n",
    "targeted_population_data.columns = ['city', 'state', 'population']\n",
    "\n",
    "targeted_population_data['city'] = targeted_population_data['city'].str.replace(\n",
    "  r'(-Davidson metropolitan government \\(balance\\)|/Jefferson County metro government \\(balance\\))', '', regex=True)"
   ]
  },
  {
   "cell_type": "code",
   "execution_count": 19,
   "metadata": {},
   "outputs": [],
   "source": [
    "#Preparing and cleaning S&P500 Data\n",
    "split_locations = snp500_data['Headquarters Location'].str.split(',', expand=True)\n",
    "snp500_data['city'] = split_locations[0]\n",
    "snp500_data['state'] = split_locations[1] if split_locations.shape[1] > 1 else None\n",
    "\n",
    "snp500_data['city'] = snp500_data['city'].str.strip()\n",
    "snp500_data['state'] = snp500_data['state'].str.strip() if snp500_data['state'] is not None else None\n",
    "snp500_data['city'] = snp500_data['city'].str.replace(r' (City|County|Village|Ranch)$', '', regex=True)\n",
    "snp500_data['city'] = snp500_data['city'].str.replace(r'\\bSt\\. \\b', 'Saint ', regex=True)\n",
    "if 'state' in snp500_data.columns:\n",
    "  snp500_data['state'] = snp500_data['state'].str.replace(r'\\bD.C\\.', 'District of Columbia', regex=True)"
   ]
  },
  {
   "cell_type": "code",
   "execution_count": 20,
   "metadata": {},
   "outputs": [],
   "source": [
    "#Intial Merge with cities data\n",
    "snp500_with_population = pd.merge(snp500_data, cities_population_data, on=['city', 'state'], how='left')"
   ]
  },
  {
   "cell_type": "code",
   "execution_count": 21,
   "metadata": {},
   "outputs": [],
   "source": [
    "# Function to check for NANs and fill them with population_data\n",
    "def fill_population(row):\n",
    "\tif pd.isna(row['population']):\n",
    "\t\t# Try to get the population from the county data\n",
    "\t\tcounty_population = counties_population_data[\n",
    "\t\t\t(counties_population_data['city'] == row['city']) &\n",
    "\t\t\t(counties_population_data['state'] == row['state'])\n",
    "\t\t\t]['population'].values\n",
    "\t\tif len(county_population) > 0:\n",
    "\t\t\treturn county_population[0]\n",
    "\t\t# If County data not found try Towns data\n",
    "\t\ttown_population = towns_population_data[\n",
    "\t\t\t(towns_population_data['city'] == row['city']) &\n",
    "\t\t\t(towns_population_data['state'] == row['state'])\n",
    "\t\t]['population'].values\n",
    "\t\tif len(town_population) > 0:\n",
    "\t\t\treturn town_population[0]\n",
    "\t\ttargeted_population = targeted_population_data[\n",
    "\t\t\t(targeted_population_data['city'] == row['city']) &\n",
    "\t\t\t(targeted_population_data['state'] == row['state'])\n",
    "\t\t\t]['population'].values\n",
    "\t\treturn targeted_population[0] if len(targeted_population) > 0 else None\n",
    "\treturn row['population']\n",
    "\n",
    "snp500_with_population['population'] = snp500_with_population.apply(fill_population, axis=1)\n",
    "\n",
    "path_to_save_csv = '../Group3Project1/Resources/snp500_with_population.csv'\n",
    "snp500_with_population.to_csv(path_to_save_csv, index=False)"
   ]
  },
  {
   "cell_type": "code",
   "execution_count": 22,
   "metadata": {},
   "outputs": [
    {
     "name": "stdout",
     "output_type": "stream",
     "text": [
      "51\n"
     ]
    }
   ],
   "source": [
    "#print(snp500_with_population.info())\n",
    "print(snp500_with_population['population'].isna().sum())"
   ]
  },
  {
   "cell_type": "code",
   "execution_count": 23,
   "metadata": {},
   "outputs": [],
   "source": [
    "#Creating CSV with NAN population values rows removed\n",
    "snp500_no_nan_population = snp500_with_population.dropna(subset=['population'])\n",
    "\n",
    "snp500_no_nan_population_path = '../Group3Project1/Resources/snp500_no_nan_population.csv'\n",
    "snp500_no_nan_population.to_csv(snp500_no_nan_population_path, index=False)"
   ]
  }
 ],
 "metadata": {
  "kernelspec": {
   "display_name": "Python 3",
   "language": "python",
   "name": "python3"
  },
  "language_info": {
   "codemirror_mode": {
    "name": "ipython",
    "version": 3
   },
   "file_extension": ".py",
   "mimetype": "text/x-python",
   "name": "python",
   "nbconvert_exporter": "python",
   "pygments_lexer": "ipython3",
   "version": "3.11.5"
  }
 },
 "nbformat": 4,
 "nbformat_minor": 2
}
