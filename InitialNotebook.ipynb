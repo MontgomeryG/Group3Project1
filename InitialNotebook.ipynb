{
 "cells": [
  {
   "cell_type": "code",
   "execution_count": 2,
   "metadata": {},
   "outputs": [
    {
     "name": "stdout",
     "output_type": "stream",
     "text": [
      "Hello\n"
     ]
    }
   ],
   "source": [
    "print(\"Hello\")"
   ]
  },
  {
   "cell_type": "code",
   "execution_count": null,
   "metadata": {},
   "outputs": [],
   "source": [
    "#DAILY PERCENTAGE RETURNS DATA... need this to see how the price reacts to a given news release\n",
    "# Remember, we are just doing the daily percentage gains, not going intraday yet, to keep things simple.\n",
    "\n",
    "\n",
    "#Let's set up our Alpaca API...\n",
    "\n",
    "# Initial imports\n",
    "import os\n",
    "import requests\n",
    "import pandas as pd\n",
    "from dotenv import load_dotenv\n",
    "import alpaca_trade_api as tradeapi\n",
    "\n",
    "%matplotlib inline\n",
    "\n",
    "# Load .env environment variables\n",
    "load_dotenv()\n",
    "\n",
    "# Set Alpaca API key and secret\n",
    "alpaca_api_key = os.getenv(\"ALPACA_API_KEY\")\n",
    "alpaca_secret_key = os.getenv(\"ALPACA_SECRET_KEY\")\n",
    "\n",
    "# Verify that Alpaca key and secret were correctly loaded\n",
    "print(f\"Alpaca Key type: {type(alpaca_api_key)}\")\n",
    "print(f\"Alpaca Secret Key type: {type(alpaca_secret_key)}\")\n",
    "\n",
    "# Create the Alpaca API object\n",
    "alpaca = tradeapi.REST(\n",
    "    alpaca_api_key,\n",
    "    alpaca_secret_key,\n",
    "    api_version=\"v2\")\n",
    "\n",
    "# Format current date as ISO format\n",
    "today = pd.Timestamp(\"2020-07-14\", tz=\"America/New_York\").isoformat()\n",
    "\n",
    "# Set the tickers\n",
    "tickers = [\"FB\", \"TWTR\"]\n",
    "\n",
    "# Set timeframe to one day (\"1Day\") for the Alpaca API\n",
    "timeframe = \"1Day\"\n",
    "\n",
    "# Get current closing prices for FB and TWTR\n",
    "df_portfolio = alpaca.get_bars(\n",
    "    tickers,\n",
    "    timeframe,\n",
    "    start = today,\n",
    "    end = today\n",
    ").df\n",
    "\n",
    "# Display sample data\n",
    "df_portfolio\n",
    "\n",
    "# Format start and end dates as ISO format for one year period\n",
    "start = pd.Timestamp(\"2019-07-14\", tz=\"America/New_York\").isoformat()\n",
    "end = pd.Timestamp(\"2020-07-14\", tz=\"America/New_York\").isoformat()\n",
    "\n",
    "# Get closing prices for FB and TWTR from the last year\n",
    "df_portfolio_year = alpaca.get_bars(\n",
    "    tickers,\n",
    "    timeframe,\n",
    "    start = start,\n",
    "    end = end\n",
    ").df\n",
    "\n",
    "# Display sample data\n",
    "df_portfolio_year.head(10)\n"
   ]
  },
  {
   "cell_type": "code",
   "execution_count": null,
   "metadata": {},
   "outputs": [],
   "source": [
    "\n",
    "# Reorganize the DataFrame using the above data we just got from alpaca \n",
    "\n",
    "# Separate ticker data\n",
    "FB = df_portfolio_year[df_portfolio_year['symbol']=='FB'].drop('symbol', axis=1)\n",
    "TWTR = df_portfolio_year[df_portfolio_year['symbol']=='TWTR'].drop('symbol', axis=1)\n",
    "\n",
    "# Concatenate the ticker DataFrames\n",
    "df_portfolio_year = pd.concat([FB, TWTR],axis=1, keys=['FB','TWTR'])\n"
   ]
  },
  {
   "cell_type": "code",
   "execution_count": null,
   "metadata": {},
   "outputs": [],
   "source": [
    "# GET GEOSPACIAL DATA\n",
    "# We are interested in US companies that release 'hot' news.\n",
    "# Where in the US are these companies located?\n",
    "# We get their location, and we should be able to translate the \"name\" of that location into \"coordinates\"\n",
    "# Once it is in \"coordinates\", we can plot that point on the Geo map using HVplot\n",
    "\n",
    "\n",
    "# Frist step would be to get the locations of each company.\n",
    "\n",
    "# Step 2 is to get access to a dataset that translates cities/towns in the US to coordinates.\n",
    "\n",
    "# Lastly we can plot those coordinates on the map."
   ]
  },
  {
   "cell_type": "code",
   "execution_count": null,
   "metadata": {},
   "outputs": [],
   "source": [
    "# STEP 2: FIND DATASET TRANSLATING CITY NAME TO COORDINATES\n",
    "# We can use this API: \"GEOCODING API\" https://openweathermap.org/api/geocoding-api \n",
    "# Here is a description from their website: \n",
    "\n",
    "# \"Geocoding API is a simple tool that we have developed to ease the search for locations while working with geographic names and coordinates.\n",
    "# Supporting API calls by geographical coordinates is the most accurate way to specify any location, that is why this method is integrated in all OpenWeather APIs. \n",
    "# However, this way is not always suitable for all users.\n",
    "# Geocoding is the process of transformation of any location name into geographical coordinates, and the other way around (reverse geocoding).\n",
    "# OpenWeather’s Geocoding API supports both the direct and reverse methods, working at the level of city names, areas and districts, countries and states:\n",
    "# Direct geocoding converts the specified name of a location or zip/post code into the exact geographical coordinates;\n",
    "# Reverse geocoding converts the geographical coordinates into the names of the nearby locations.\"\n",
    "\n",
    "# We will use direct geocoding.\n",
    "\n",
    "import requests\n",
    "# import requests\n",
    "\n",
    "# Create variable to hold request url\n",
    "url = \"http://api.openweathermap.org/geo/1.0/direct?q=Oakland&limit=5&appid=628878cc6edbe70ff1805be47e1af1ea\"\n",
    "\n",
    "# Add format specifier to request url\n",
    "#url = url + \"?format=json\"\n",
    "\n",
    "# Execute get request\n",
    "requests.get(url)\n",
    "\n",
    "\n",
    "# Execute GET request and store response\n",
    "response_data = requests.get(url)\n",
    "# q\trequired\tCity name, state code (only for the US) and country code divided by comma. Please use ISO 3166 country codes.\n",
    "# appid\trequired\tYour unique API key (you can always find it on your account page under the \"API key\" tab)\n",
    "# limit\toptional\tNumber of the locations in the API response (up to 5 results can be returned in the API response)\n",
    "\n",
    "# http://api.openweathermap.org/geo/1.0/direct?q=London&limit=5&appid={API key}\n",
    "\n",
    "#http://api.openweathermap.org/geo/1.0/direct?q=Oakland&limit=5&appid={3fcc50c01f481adc6307ae95cede2362}"
   ]
  },
  {
   "cell_type": "code",
   "execution_count": null,
   "metadata": {},
   "outputs": [],
   "source": [
    "print(response_data.content) #I think I am getting an error because I need to confirm my email. However, that email is taking a while to arrive..."
   ]
  },
  {
   "cell_type": "code",
   "execution_count": null,
   "metadata": {},
   "outputs": [],
   "source": []
  }
 ],
 "metadata": {
  "kernelspec": {
   "display_name": "base",
   "language": "python",
   "name": "python3"
  },
  "language_info": {
   "codemirror_mode": {
    "name": "ipython",
    "version": 3
   },
   "file_extension": ".py",
   "mimetype": "text/x-python",
   "name": "python",
   "nbconvert_exporter": "python",
   "pygments_lexer": "ipython3",
   "version": "3.11.5"
  }
 },
 "nbformat": 4,
 "nbformat_minor": 2
}
