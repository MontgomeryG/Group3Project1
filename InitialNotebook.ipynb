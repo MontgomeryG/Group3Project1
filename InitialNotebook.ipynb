{
 "cells": [
  {
   "cell_type": "code",
   "execution_count": null,
   "metadata": {},
   "outputs": [],
   "source": [
    "#DAILY PERCENTAGE RETURNS DATA... need this to see how the price reacts to a given news release\n",
    "# Remember, we are just doing the daily percentage gains, not going intraday yet, to keep things simple.\n",
    "\n",
    "\n",
    "#Let's set up our Alpaca API...\n",
    "\n",
    "# Initial imports\n",
    "import os\n",
    "import requests\n",
    "import pandas as pd\n",
    "from dotenv import load_dotenv\n",
    "import alpaca_trade_api as tradeapi\n",
    "\n",
    "%matplotlib inline\n",
    "\n"
   ]
  },
  {
   "cell_type": "code",
   "execution_count": null,
   "metadata": {},
   "outputs": [],
   "source": [
    "\n",
    "# Load .env environment variables\n",
    "load_dotenv()"
   ]
  },
  {
   "cell_type": "code",
   "execution_count": null,
   "metadata": {},
   "outputs": [],
   "source": [
    "# Set Alpaca API key and secret\n",
    "alpaca_api_key = os.getenv(\"ALPACA_API_KEY\")\n",
    "alpaca_secret_key = os.getenv(\"ALPACA_SECRET_KEY\")\n",
    "\n",
    "# Verify that Alpaca key and secret were correctly loaded\n",
    "print(f\"Alpaca Key type: {type(alpaca_api_key)}\")\n",
    "print(f\"Alpaca Secret Key type: {type(alpaca_secret_key)}\")\n",
    "\n"
   ]
  },
  {
   "cell_type": "code",
   "execution_count": null,
   "metadata": {},
   "outputs": [],
   "source": [
    "# Create the Alpaca API object\n",
    "alpaca = tradeapi.REST(\n",
    "    alpaca_api_key,\n",
    "    alpaca_secret_key,\n",
    "    api_version=\"v2\")\n",
    "\n"
   ]
  },
  {
   "cell_type": "code",
   "execution_count": null,
   "metadata": {},
   "outputs": [],
   "source": [
    "# Format current date as ISO format\n",
    "today = pd.Timestamp(\"2020-07-14\", tz=\"America/New_York\").isoformat()\n"
   ]
  },
  {
   "cell_type": "code",
   "execution_count": null,
   "metadata": {},
   "outputs": [],
   "source": [
    "# Set the tickers\n",
    "tickers = [\"FB\", \"TWTR\"]\n",
    "\n"
   ]
  },
  {
   "cell_type": "code",
   "execution_count": null,
   "metadata": {},
   "outputs": [],
   "source": [
    "# Set timeframe to one day (\"1Day\") for the Alpaca API\n",
    "timeframe = \"1Day\"\n",
    "\n",
    "# Get current closing prices for FB and TWTR\n",
    "df_portfolio = alpaca.get_bars(\n",
    "    tickers,\n",
    "    timeframe,\n",
    "    start = today,\n",
    "    end = today\n",
    ").df\n",
    "\n",
    "# Display sample data\n",
    "df_portfolio"
   ]
  },
  {
   "cell_type": "code",
   "execution_count": null,
   "metadata": {},
   "outputs": [],
   "source": [
    "\n",
    "# Format start and end dates as ISO format for one year period\n",
    "start = pd.Timestamp(\"2019-07-14\", tz=\"America/New_York\").isoformat()\n",
    "end = pd.Timestamp(\"2020-07-14\", tz=\"America/New_York\").isoformat()\n",
    "\n",
    "# Get closing prices for FB and TWTR from the last year\n",
    "df_portfolio_year = alpaca.get_bars(\n",
    "    tickers,\n",
    "    timeframe,\n",
    "    start = start,\n",
    "    end = end\n",
    ").df\n",
    "\n",
    "# Display sample data\n",
    "df_portfolio_year.head(10)"
   ]
  },
  {
   "cell_type": "code",
   "execution_count": null,
   "metadata": {},
   "outputs": [],
   "source": [
    "\n",
    "# Reorganize the DataFrame using the above data we just got from alpaca \n",
    "\n",
    "# Separate ticker data\n",
    "FB = df_portfolio_year[df_portfolio_year['symbol']=='FB'].drop('symbol', axis=1)\n",
    "TWTR = df_portfolio_year[df_portfolio_year['symbol']=='TWTR'].drop('symbol', axis=1)\n",
    "\n",
    "# Concatenate the ticker DataFrames\n",
    "df_portfolio_year = pd.concat([FB, TWTR],axis=1, keys=['FB','TWTR'])\n"
   ]
  },
  {
   "cell_type": "code",
   "execution_count": null,
   "metadata": {},
   "outputs": [],
   "source": [
    "# GET GEOSPACIAL DATA\n",
    "# We are interested in US companies that release 'hot' news.\n",
    "# Where in the US are these companies located?\n",
    "# We get their location, and we should be able to translate the \"name\" of that location into \"coordinates\"\n",
    "# Once it is in \"coordinates\", we can plot that point on the Geo map using HVplot\n",
    "\n",
    "\n",
    "# Frist step would be to get the locations of each company.\n",
    "\n",
    "# Step 2 is to get access to a dataset that translates cities/towns in the US to coordinates.\n",
    "\n",
    "# Lastly we can plot those coordinates on the map."
   ]
  },
  {
   "cell_type": "code",
   "execution_count": 5,
   "metadata": {},
   "outputs": [
    {
     "data": {
      "text/plain": [
       "<Response [200]>"
      ]
     },
     "execution_count": 5,
     "metadata": {},
     "output_type": "execute_result"
    }
   ],
   "source": [
    "# STEP 2: FIND DATASET TRANSLATING CITY NAME TO COORDINATES\n",
    "# We can use this API: \"GEOCODING API\" https://openweathermap.org/api/geocoding-api \n",
    "# Here is a description from their website: \n",
    "\n",
    "# \"Geocoding API is a simple tool that we have developed to ease the search for locations while working with geographic names and coordinates.\n",
    "# Supporting API calls by geographical coordinates is the most accurate way to specify any location, that is why this method is integrated in all OpenWeather APIs. \n",
    "# However, this way is not always suitable for all users.\n",
    "# Geocoding is the process of transformation of any location name into geographical coordinates, and the other way around (reverse geocoding).\n",
    "# OpenWeather’s Geocoding API supports both the direct and reverse methods, working at the level of city names, areas and districts, countries and states:\n",
    "# Direct geocoding converts the specified name of a location or zip/post code into the exact geographical coordinates;\n",
    "# Reverse geocoding converts the geographical coordinates into the names of the nearby locations.\"\n",
    "\n",
    "# We will use direct geocoding.\n",
    "\n",
    "import requests\n",
    "# import requests\n",
    "\n",
    "# Create variable to hold request url\n",
    "url = \"http://api.openweathermap.org/geo/1.0/direct?q=Oakland&limit=5&appid=628878cc6edbe70ff1805be47e1af1ea\"\n",
    "\n",
    "# Add format specifier to request url\n",
    "#url = url + \"?format=json\"\n",
    "\n",
    "# Execute get request\n",
    "requests.get(url)\n",
    "\n",
    "\n",
    "# Execute GET request and store response\n",
    "# response_data = requests.get(url)\n",
    "# q\trequired\tCity name, state code (only for the US) and country code divided by comma. Please use ISO 3166 country codes.\n",
    "# appid\trequired\tYour unique API key (you can always find it on your account page under the \"API key\" tab)\n",
    "# limit\toptional\tNumber of the locations in the API response (up to 5 results can be returned in the API response)\n",
    "\n",
    "# myCityNameVariable = \"\"\n",
    "# for this many rows in our S&P 500 data\n",
    "#     get the name of city\n",
    "#     set that name to myCityNameVariable\n",
    "#     put that myCityNameVariable into the link\n",
    "#     make that API call\n",
    "\n",
    "# http://api.openweathermap.org/geo/1.0/direct?q=myCityNameVariable&limit={limit}&appid={API key}\n",
    "\n",
    "\n",
    "# http://api.openweathermap.org/geo/1.0/direct?q=London&limit=5&appid={API key}\n",
    "\n",
    "#http://api.openweathermap.org/geo/1.0/direct?q=Oakland&limit=5&appid={3fcc50c01f481adc6307ae95cede2362}"
   ]
  },
  {
   "cell_type": "code",
   "execution_count": 6,
   "metadata": {},
   "outputs": [
    {
     "name": "stdout",
     "output_type": "stream",
     "text": [
      "b'[{\"name\":\"Oakland\",\"local_names\":{\"kw\":\"Oakland\",\"mk\":\"\\xd0\\x9e\\xd1\\x83\\xd0\\xba\\xd0\\xbb\\xd0\\xb5\\xd0\\xbd\\xd0\\xb4\",\"pt\":\"Oakland\",\"pl\":\"Oakland\",\"ka\":\"\\xe1\\x83\\x9d\\xe1\\x83\\x99\\xe1\\x83\\x9a\\xe1\\x83\\x94\\xe1\\x83\\x9c\\xe1\\x83\\x93\\xe1\\x83\\x98\",\"ja\":\"\\xe3\\x82\\xaa\\xe3\\x83\\xbc\\xe3\\x82\\xaf\\xe3\\x83\\xa9\\xe3\\x83\\xb3\\xe3\\x83\\x89\",\"yo\":\"Oakland\",\"fa\":\"\\xd8\\xa7\\xd9\\x88\\xda\\xa9\\xd9\\x84\\xd9\\x86\\xd8\\xaf\\xd8\\x8c \\xda\\xa9\\xd8\\xa7\\xd9\\x84\\xdb\\x8c\\xd9\\x81\\xd8\\xb1\\xd9\\x86\\xdb\\x8c\\xd8\\xa7\",\"sv\":\"Oakland\",\"sh\":\"Oakland\",\"sw\":\"Oakland\",\"fy\":\"Oakland\",\"ht\":\"Oakland\",\"hr\":\"Oakland\",\"so\":\"Oakland\",\"ur\":\"\\xd8\\xa7\\xd9\\x88\\xda\\xa9\\xd9\\x84\\xdb\\x8c\\xd9\\x86\\xda\\x88\\xd8\\x8c \\xda\\xa9\\xdb\\x8c\\xd9\\x84\\xdb\\x8c\\xd9\\x81\\xd9\\x88\\xd8\\xb1\\xd9\\x86\\xdb\\x8c\\xd8\\xa7\",\"ro\":\"Oakland\",\"jv\":\"Oakland\",\"fi\":\"Oakland\",\"bn\":\"\\xe0\\xa6\\x93\\xe0\\xa6\\x95\\xe0\\xa6\\xb2\\xe0\\xa7\\x8d\\xe0\\xa6\\xaf\\xe0\\xa6\\xbe\\xe0\\xa6\\xa8\\xe0\\xa7\\x8d\\xe0\\xa6\\xa1\",\"de\":\"Oakland\",\"zh\":\"\\xe5\\xa5\\xa5\\xe5\\x85\\x8b\\xe5\\x85\\xb0/\\xe5\\xa5\\xa7\\xe5\\x85\\x8b\\xe8\\x98\\xad/\\xe5\\xb1\\x8b\\xe5\\xb4\\x99\",\"ta\":\"\\xe0\\xae\\x93\\xe0\\xae\\x95\\xe0\\xaf\\x8d\\xe0\\xae\\xb2\\xe0\\xae\\xa3\\xe0\\xaf\\x8d\\xe0\\xae\\x9f\\xe0\\xaf\\x8d, \\xe0\\xae\\x95\\xe0\\xae\\xb2\\xe0\\xae\\xbf\\xe0\\xae\\xaa\\xe0\\xaf\\x8b\\xe0\\xae\\xb0\\xe0\\xaf\\x8d\\xe0\\xae\\xa9\\xe0\\xae\\xbf\\xe0\\xae\\xaf\\xe0\\xae\\xbe\",\"io\":\"Oakland\",\"el\":\"\\xce\\x8c\\xce\\xbf\\xcf\\x85\\xce\\xba\\xce\\xbb\\xce\\xb1\\xce\\xbd\\xcf\\x84\",\"eu\":\"Oakland\",\"tr\":\"Oakland\",\"ga\":\"Oakland\",\"be\":\"\\xd0\\x9e\\xd0\\xba\\xd0\\xbb\\xd0\\xb5\\xd0\\xbd\\xd0\\xb4\",\"oc\":\"Oakland\",\"uk\":\"\\xd0\\x9e\\xd0\\xba\\xd0\\xbb\\xd0\\xb5\\xd0\\xbd\\xd0\\xb4\",\"it\":\"Oakland\",\"mr\":\"\\xe0\\xa4\\x93\\xe0\\xa4\\x95\\xe0\\xa4\\xb2\\xe0\\xa4\\x82\\xe0\\xa4\\xa1\",\"tl\":\"Oakland\",\"ms\":\"Oakland\",\"eo\":\"Oakland\",\"uz\":\"Oakland\",\"id\":\"Oakland\",\"br\":\"Oakland\",\"mg\":\"Oakland\",\"af\":\"Oakland\",\"hy\":\"\\xd5\\x95\\xd6\\x84\\xd5\\xac\\xd5\\xa5\\xd5\\xb6\\xd5\\xa4\",\"la\":\"Quercupolis\",\"ne\":\"\\xe0\\xa4\\x93\\xe0\\xa4\\x95\\xe0\\xa4\\xb2\\xe0\\xa5\\x8d\\xe0\\xa4\\xaf\\xe0\\xa4\\xbe\\xe0\\xa4\\xa3\\xe0\\xa5\\x8d\\xe0\\xa4\\xa1\",\"sk\":\"Oakland\",\"vo\":\"Oakland\",\"az\":\"Oklend\",\"nl\":\"Oakland\",\"ie\":\"Oakland\",\"ru\":\"\\xd0\\x9e\\xd0\\xba\\xd0\\xbb\\xd0\\xb5\\xd0\\xbd\\xd0\\xb4\",\"no\":\"Oakland\",\"fr\":\"Oakland\",\"cy\":\"Oakland\",\"gl\":\"Oakland\",\"da\":\"Oakland\",\"lt\":\"Oklandas\",\"ca\":\"Oakland\",\"ia\":\"Oakland\",\"ml\":\"\\xe0\\xb4\\x93\\xe0\\xb4\\x95\\xe0\\xb5\\x8d\\xe2\\x80\\x8c\\xe0\\xb4\\xb2\\xe0\\xb4\\xbe\\xe0\\xb4\\xa8\\xe0\\xb5\\x8d\\xe0\\xb4\\xb1\\xe0\\xb5\\x8d, \\xe0\\xb4\\x95\\xe0\\xb4\\xbe\\xe0\\xb4\\xb2\\xe0\\xb4\\xbf\\xe0\\xb4\\xab\\xe0\\xb5\\x8b\\xe0\\xb5\\xbc\\xe0\\xb4\\xa3\\xe0\\xb4\\xbf\\xe0\\xb4\\xaf\",\"ko\":\"\\xec\\x98\\xa4\\xed\\x81\\xb4\\xeb\\x9e\\x9c\\xeb\\x93\\x9c\",\"vi\":\"Oakland\",\"lv\":\"Oklenda\",\"hu\":\"Oakland\",\"an\":\"Oakland\",\"et\":\"Oakland\",\"ar\":\"\\xd8\\xa3\\xd9\\x88\\xd9\\x83\\xd9\\x84\\xd8\\xa7\\xd9\\x86\\xd8\\xaf (\\xd9\\x83\\xd8\\xa7\\xd9\\x84\\xd9\\x8a\\xd9\\x81\\xd9\\x88\\xd8\\xb1\\xd9\\x86\\xd9\\x8a\\xd8\\xa7)\",\"es\":\"Oakland\",\"bm\":\"Oakland\",\"tt\":\"\\xd0\\x9e\\xd1\\x83\\xd0\\xba\\xd0\\xbb\\xd0\\xb5\\xd0\\xbd\\xd0\\xb4\",\"en\":\"Oakland\",\"nn\":\"Oakland i California\",\"sl\":\"Oakland\",\"cs\":\"Oakland\",\"bg\":\"\\xd0\\x9e\\xd1\\x83\\xd0\\xba\\xd0\\xbb\\xd0\\xb0\\xd0\\xbd\\xd0\\xb4\",\"is\":\"Oakland\",\"sr\":\"\\xd0\\x9e\\xd1\\x83\\xd0\\xba\\xd0\\xbb\\xd0\\xb0\\xd0\\xbd\\xd0\\xb4\",\"yi\":\"\\xd7\\x90\\xd7\\xa7\\xd7\\x9c\\xd7\\x90\\xd7\\xa0\\xd7\\x93, \\xd7\\xa7\\xd7\\x90\\xd7\\x9c\\xd7\\x99\\xd7\\xa4\\xd7\\x90\\xd7\\xa8\\xd7\\xa0\\xd7\\x99\\xd7\\xa2\",\"nv\":\"Ch\\xc3\\xa9ch\\xca\\xbciltah Hatsoh\",\"he\":\"\\xd7\\x90\\xd7\\x95\\xd7\\xa7\\xd7\\x9c\\xd7\\xa0\\xd7\\x93 (\\xd7\\xa7\\xd7\\x9c\\xd7\\x99\\xd7\\xa4\\xd7\\x95\\xd7\\xa8\\xd7\\xa0\\xd7\\x99\\xd7\\x94)\",\"sq\":\"Oakland\",\"li\":\"Oakland\"},\"lat\":37.8044557,\"lon\":-122.271356,\"country\":\"US\",\"state\":\"California\"},{\"name\":\"Oakland\",\"lat\":41.3107195,\"lon\":-95.3966425,\"country\":\"US\",\"state\":\"Iowa\"},{\"name\":\"Oakland\",\"lat\":37.0419887,\"lon\":-86.2483177,\"country\":\"US\",\"state\":\"Kentucky\"},{\"name\":\"Oakland\",\"lat\":40.4389972,\"lon\":-79.9557454,\"country\":\"US\",\"state\":\"Pennsylvania\"},{\"name\":\"Oakland\",\"lat\":38.5764418,\"lon\":-90.3856733,\"country\":\"US\",\"state\":\"Missouri\"}]'\n"
     ]
    }
   ],
   "source": [
    "print(response_data.content) #I think I am getting an error because I need to confirm my email. However, that email is taking a while to arrive..."
   ]
  },
  {
   "cell_type": "code",
   "execution_count": null,
   "metadata": {},
   "outputs": [],
   "source": [
    "#NEXT STEPS: \n",
    "# Confirm email for geospacial data.\n",
    "# Get nasdaq newsfeed data working.\n",
    "# Ensure we can pull all of our data from 3 sources.\n",
    "# Any other data source we need to call?"
   ]
  }
 ],
 "metadata": {
  "kernelspec": {
   "display_name": "base",
   "language": "python",
   "name": "python3"
  },
  "language_info": {
   "codemirror_mode": {
    "name": "ipython",
    "version": 3
   },
   "file_extension": ".py",
   "mimetype": "text/x-python",
   "name": "python",
   "nbconvert_exporter": "python",
   "pygments_lexer": "ipython3",
   "version": "3.11.5"
  }
 },
 "nbformat": 4,
 "nbformat_minor": 2
}
